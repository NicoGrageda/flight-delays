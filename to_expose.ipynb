{
  "cells": [
    {
      "cell_type": "markdown",
      "metadata": {
        "id": "IlDDu4uVQv77"
      },
      "source": [
        "# Trabajo de Juan"
      ]
    },
    {
      "cell_type": "markdown",
      "metadata": {
        "id": "uGK1QSFsQv78"
      },
      "source": [
        "## Problema\n",
        "\n",
        "El problema consiste en predecir la probabilidad de atraso de los vuelos que aterrizan o despegan del aeropuerto de Santiago\n",
        "de Chile (SCL). Para eso les entregamos un dataset usando datos públicos y reales donde cada fila corresponde a un vuelo\n",
        "que aterrizó o despegó de SCL. Para cada vuelo se cuenta con la siguiente información:\n",
        "\n",
        "* **Fecha-I** : Fecha y hora programada del vuelo.\n",
        "* **Vlo-I** : Número de vuelo programado.\n",
        "* **Ori-I** : Código de ciudad de origen programado.\n",
        "* **Des-I** : Código de ciudad de destino programado.\n",
        "* **Emp-I** : Código aerolínea de vuelo programado.\n",
        "* **Fecha-O** : Fecha y hora de operación del vuelo.\n",
        "* **Vlo-O** : Número de vuelo de operación del vuelo.\n",
        "* **Ori-O** : Código de ciudad de origen de operación\n",
        "* **Des-O** : Código de ciudad de destino de operación.\n",
        "* **Emp-O** : Código aerolínea de vuelo operado.\n",
        "* **DIA** : Día del mes de operación del vuelo.\n",
        "* **MES** : Número de mes de operación del vuelo.\n",
        "* **AÑO** : Año de operación del vuelo.\n",
        "* **DIANOM** : Día de la semana de operación del vuelo.\n",
        "* **TIPOVUELO** : Tipo de vuelo, I =Internacional, N =Nacional.\n",
        "* **OPERA** : Nombre de aerolínea que opera.\n",
        "* **SIGLAORI** : Nombre ciudad origen.\n",
        "* **SIGLADES** : Nombre ciudad destino."
      ]
    },
    {
      "cell_type": "markdown",
      "metadata": {
        "id": "lZ5LdFzqQv8C"
      },
      "source": [
        "## Desarrollo"
      ]
    },
    {
      "cell_type": "markdown",
      "metadata": {
        "id": "6nz9dhj8Qv8C"
      },
      "source": [
        "### 0. Obtención de datos"
      ]
    },
    {
      "cell_type": "code",
      "execution_count": 1,
      "metadata": {
        "id": "ihIR4rzbQv8C"
      },
      "outputs": [],
      "source": [
        "#Se importan las librerías necesarias para el problema\n",
        "import pandas as pd\n",
        "import numpy as np\n",
        "import matplotlib.pyplot as plt\n",
        "import seaborn as sns\n",
        "\n",
        "import missingno as msng\n",
        "import warnings\n",
        "warnings.filterwarnings('ignore')\n",
        "%matplotlib inline\n",
        "plt.rcParams['figure.figsize'] = (15, 10)"
      ]
    },
    {
      "cell_type": "code",
      "execution_count": 2,
      "metadata": {
        "scrolled": true,
        "id": "cumDZ51oQv8D"
      },
      "outputs": [],
      "source": [
        "df = pd.read_csv('dataset_SCL.csv')"
      ]
    },
    {
      "cell_type": "code",
      "execution_count": 3,
      "metadata": {
        "colab": {
          "base_uri": "https://localhost:8080/"
        },
        "id": "U7pp-dD3Qv8D",
        "outputId": "383c4774-11ce-4044-b074-58ae1753153e"
      },
      "outputs": [
        {
          "output_type": "execute_result",
          "data": {
            "text/plain": [
              "(68206, 18)"
            ]
          },
          "metadata": {},
          "execution_count": 3
        }
      ],
      "source": [
        "df.shape"
      ]
    },
    {
      "cell_type": "code",
      "execution_count": 4,
      "metadata": {
        "colab": {
          "base_uri": "https://localhost:8080/"
        },
        "id": "-gTVwsOqQv8E",
        "outputId": "5c2a2343-bce2-47ae-9f76-804a4148a32e"
      },
      "outputs": [
        {
          "output_type": "stream",
          "name": "stdout",
          "text": [
            "<class 'pandas.core.frame.DataFrame'>\n",
            "RangeIndex: 68206 entries, 0 to 68205\n",
            "Data columns (total 18 columns):\n",
            " #   Column     Non-Null Count  Dtype \n",
            "---  ------     --------------  ----- \n",
            " 0   Fecha-I    68206 non-null  object\n",
            " 1   Vlo-I      68206 non-null  object\n",
            " 2   Ori-I      68206 non-null  object\n",
            " 3   Des-I      68206 non-null  object\n",
            " 4   Emp-I      68206 non-null  object\n",
            " 5   Fecha-O    68206 non-null  object\n",
            " 6   Vlo-O      68205 non-null  object\n",
            " 7   Ori-O      68206 non-null  object\n",
            " 8   Des-O      68206 non-null  object\n",
            " 9   Emp-O      68206 non-null  object\n",
            " 10  DIA        68206 non-null  int64 \n",
            " 11  MES        68206 non-null  int64 \n",
            " 12  AÑO        68206 non-null  int64 \n",
            " 13  DIANOM     68206 non-null  object\n",
            " 14  TIPOVUELO  68206 non-null  object\n",
            " 15  OPERA      68206 non-null  object\n",
            " 16  SIGLAORI   68206 non-null  object\n",
            " 17  SIGLADES   68206 non-null  object\n",
            "dtypes: int64(3), object(15)\n",
            "memory usage: 9.4+ MB\n"
          ]
        }
      ],
      "source": [
        "df.info()"
      ]
    },
    {
      "cell_type": "code",
      "execution_count": 5,
      "metadata": {
        "scrolled": true,
        "colab": {
          "base_uri": "https://localhost:8080/",
          "height": 527
        },
        "id": "KiBcsNZEQv8E",
        "outputId": "9c142d56-ff3f-4b14-a94c-1daa5081d401"
      },
      "outputs": [
        {
          "output_type": "execute_result",
          "data": {
            "text/plain": [
              "<Axes: >"
            ]
          },
          "metadata": {},
          "execution_count": 5
        },
        {
          "output_type": "display_data",
          "data": {
            "text/plain": [
              "<Figure size 2500x1000 with 2 Axes>"
            ],
            "image/png": "[encoded data removed]"
          },
          "metadata": {}
        }
      ],
      "source": [
        "msng.matrix(df)"
      ]
    },
    {
      "cell_type": "code",
      "execution_count": 6,
      "metadata": {
        "colab": {
          "base_uri": "https://localhost:8080/",
          "height": 300
        },
        "id": "uzYiJAazQv8E",
        "outputId": "caf49722-d860-4f61-d007-1b7ead92b5f9"
      },
      "outputs": [
        {
          "output_type": "execute_result",
          "data": {
            "text/plain": [
              "                DIA           MES           AÑO\n",
              "count  68206.000000  68206.000000  68206.000000\n",
              "mean      15.714790      6.622585   2017.000029\n",
              "std        8.782886      3.523321      0.005415\n",
              "min        1.000000      1.000000   2017.000000\n",
              "25%        8.000000      3.000000   2017.000000\n",
              "50%       16.000000      7.000000   2017.000000\n",
              "75%       23.000000     10.000000   2017.000000\n",
              "max       31.000000     12.000000   2018.000000"
            ],
            "text/html": [
              "\n",
              "  <div id=\"df-a54e3548-88b8-4a0c-ac78-363eb2f70611\">\n",
              "    <div class=\"colab-df-container\">\n",
              "      <div>\n",
              "<style scoped>\n",
              "    .dataframe tbody tr th:only-of-type {\n",
              "        vertical-align: middle;\n",
              "    }\n",
              "\n",
              "    .dataframe tbody tr th {\n",
              "        vertical-align: top;\n",
              "    }\n",
              "\n",
              "    .dataframe thead th {\n",
              "        text-align: right;\n",
              "    }\n",
              "</style>\n",
              "<table border=\"1\" class=\"dataframe\">\n",
              "  <thead>\n",
              "    <tr style=\"text-align: right;\">\n",
              "      <th></th>\n",
              "      <th>DIA</th>\n",
              "      <th>MES</th>\n",
              "      <th>AÑO</th>\n",
              "    </tr>\n",
              "  </thead>\n",
              "  <tbody>\n",
              "    <tr>\n",
              "      <th>count</th>\n",
              "      <td>68206.000000</td>\n",
              "      <td>68206.000000</td>\n",
              "      <td>68206.000000</td>\n",
              "    </tr>\n",
              "    <tr>\n",
              "      <th>mean</th>\n",
              "      <td>15.714790</td>\n",
              "      <td>6.622585</td>\n",
              "      <td>2017.000029</td>\n",
              "    </tr>\n",
              "    <tr>\n",
              "      <th>std</th>\n",
              "      <td>8.782886</td>\n",
              "      <td>3.523321</td>\n",
              "      <td>0.005415</td>\n",
              "    </tr>\n",
              "    <tr>\n",
              "      <th>min</th>\n",
              "      <td>1.000000</td>\n",
              "      <td>1.000000</td>\n",
              "      <td>2017.000000</td>\n",
              "    </tr>\n",
              "    <tr>\n",
              "      <th>25%</th>\n",
              "      <td>8.000000</td>\n",
              "      <td>3.000000</td>\n",
              "      <td>2017.000000</td>\n",
              "    </tr>\n",
              "    <tr>\n",
              "      <th>50%</th>\n",
              "      <td>16.000000</td>\n",
              "      <td>7.000000</td>\n",
              "      <td>2017.000000</td>\n",
              "    </tr>\n",
              "    <tr>\n",
              "      <th>75%</th>\n",
              "      <td>23.000000</td>\n",
              "      <td>10.000000</td>\n",
              "      <td>2017.000000</td>\n",
              "    </tr>\n",
              "    <tr>\n",
              "      <th>max</th>\n",
              "      <td>31.000000</td>\n",
              "      <td>12.000000</td>\n",
              "      <td>2018.000000</td>\n",
              "    </tr>\n",
              "  </tbody>\n",
              "</table>\n",
              "</div>\n",
              "      <button class=\"colab-df-convert\" onclick=\"convertToInteractive('df-a54e3548-88b8-4a0c-ac78-363eb2f70611')\"\n",
              "              title=\"Convert this dataframe to an interactive table.\"\n",
              "              style=\"display:none;\">\n",
              "        \n",
              "  <svg xmlns=\"http://www.w3.org/2000/svg\" height=\"24px\"viewBox=\"0 0 24 24\"\n",
              "       width=\"24px\">\n",
              "    <path d=\"M0 0h24v24H0V0z\" fill=\"none\"/>\n",
              "    <path d=\"M18.56 5.44l.94 2.06.94-2.06 2.06-.94-2.06-.94-.94-2.06-.94 2.06-2.06.94zm-11 1L8.5 8.5l.94-2.06 2.06-.94-2.06-.94L8.5 2.5l-.94 2.06-2.06.94zm10 10l.94 2.06.94-2.06 2.06-.94-2.06-.94-.94-2.06-.94 2.06-2.06.94z\"/><path d=\"M17.41 7.96l-1.37-1.37c-.4-.4-.92-.59-1.43-.59-.52 0-1.04.2-1.43.59L10.3 9.45l-7.72 7.72c-.78.78-.78 2.05 0 2.83L4 21.41c.39.39.9.59 1.41.59.51 0 1.02-.2 1.41-.59l7.78-7.78 2.81-2.81c.8-.78.8-2.07 0-2.86zM5.41 20L4 18.59l7.72-7.72 1.47 1.35L5.41 20z\"/>\n",
              "  </svg>\n",
              "      </button>\n",
              "      \n",
              "  <style>\n",
              "    .colab-df-container {\n",
              "      display:flex;\n",
              "      flex-wrap:wrap;\n",
              "      gap: 12px;\n",
              "    }\n",
              "\n",
              "    .colab-df-convert {\n",
              "      background-color: #E8F0FE;\n",
              "      border: none;\n",
              "      border-radius: 50%;\n",
              "      cursor: pointer;\n",
              "      display: none;\n",
              "      fill: #1967D2;\n",
              "      height: 32px;\n",
              "      padding: 0 0 0 0;\n",
              "      width: 32px;\n",
              "    }\n",
              "\n",
              "    .colab-df-convert:hover {\n",
              "      background-color: #E2EBFA;\n",
              "      box-shadow: 0px 1px 2px rgba(60, 64, 67, 0.3), 0px 1px 3px 1px rgba(60, 64, 67, 0.15);\n",
              "      fill: #174EA6;\n",
              "    }\n",
              "\n",
              "    [theme=dark] .colab-df-convert {\n",
              "      background-color: #3B4455;\n",
              "      fill: #D2E3FC;\n",
              "    }\n",
              "\n",
              "    [theme=dark] .colab-df-convert:hover {\n",
              "      background-color: #434B5C;\n",
              "      box-shadow: 0px 1px 3px 1px rgba(0, 0, 0, 0.15);\n",
              "      filter: drop-shadow(0px 1px 2px rgba(0, 0, 0, 0.3));\n",
              "      fill: #FFFFFF;\n",
              "    }\n",
              "  </style>\n",
              "\n",
              "      <script>\n",
              "        const buttonEl =\n",
              "          document.querySelector('#df-a54e3548-88b8-4a0c-ac78-363eb2f70611 button.colab-df-convert');\n",
              "        buttonEl.style.display =\n",
              "          google.colab.kernel.accessAllowed ? 'block' : 'none';\n",
              "\n",
              "        async function convertToInteractive(key) {\n",
              "          const element = document.querySelector('#df-a54e3548-88b8-4a0c-ac78-363eb2f70611');\n",
              "          const dataTable =\n",
              "            await google.colab.kernel.invokeFunction('convertToInteractive',\n",
              "                                                     [key], {});\n",
              "          if (!dataTable) return;\n",
              "\n",
              "          const docLinkHtml = 'Like what you see? Visit the ' +\n",
              "            '<a target=\"_blank\" href=https://colab.research.google.com/notebooks/data_table.ipynb>data table notebook</a>'\n",
              "            + ' to learn more about interactive tables.';\n",
              "          element.innerHTML = '';\n",
              "          dataTable['output_type'] = 'display_data';\n",
              "          await google.colab.output.renderOutput(dataTable, element);\n",
              "          const docLink = document.createElement('div');\n",
              "          docLink.innerHTML = docLinkHtml;\n",
              "          element.appendChild(docLink);\n",
              "        }\n",
              "      </script>\n",
              "    </div>\n",
              "  </div>\n",
              "  "
            ]
          },
          "metadata": {},
          "execution_count": 6
        }
      ],
      "source": [
        "df.describe()"
      ]
    },
    {
      "cell_type": "markdown",
      "metadata": {
        "id": "_XuuindkQv8E"
      },
      "source": [
        "### 1. ¿Cómo se distribuyen los datos? ¿Qué te llama la atención o cuál es tu conclusión sobre esto?"
      ]
    },
    {
      "cell_type": "code",
      "execution_count": 7,
      "metadata": {
        "colab": {
          "base_uri": "https://localhost:8080/",
          "height": 257
        },
        "id": "R0_wRjXFQv8F",
        "outputId": "47c07f9a-ac58-4721-d797-85163552d36d"
      },
      "outputs": [
        {
          "output_type": "error",
          "ename": "TypeError",
          "evalue": "ignored",
          "traceback": [
            "\u001b[0;31m---------------------------------------------------------------------------\u001b[0m",
            "\u001b[0;31mTypeError\u001b[0m                                 Traceback (most recent call last)",
            "\u001b[0;32m<ipython-input-7-e201d609bc72>\u001b[0m in \u001b[0;36m<cell line: 4>\u001b[0;34m()\u001b[0m\n\u001b[1;32m      2\u001b[0m \u001b[0mplt\u001b[0m\u001b[0;34m.\u001b[0m\u001b[0mfigure\u001b[0m\u001b[0;34m(\u001b[0m\u001b[0mfigsize\u001b[0m \u001b[0;34m=\u001b[0m \u001b[0;34m(\u001b[0m\u001b[0;36m10\u001b[0m\u001b[0;34m,\u001b[0m\u001b[0;36m6\u001b[0m\u001b[0;34m)\u001b[0m\u001b[0;34m)\u001b[0m\u001b[0;34m\u001b[0m\u001b[0;34m\u001b[0m\u001b[0m\n\u001b[1;32m      3\u001b[0m \u001b[0msns\u001b[0m\u001b[0;34m.\u001b[0m\u001b[0mset\u001b[0m\u001b[0;34m(\u001b[0m\u001b[0mstyle\u001b[0m\u001b[0;34m=\u001b[0m\u001b[0;34m\"darkgrid\"\u001b[0m\u001b[0;34m)\u001b[0m\u001b[0;34m\u001b[0m\u001b[0;34m\u001b[0m\u001b[0m\n\u001b[0;32m----> 4\u001b[0;31m \u001b[0msns\u001b[0m\u001b[0;34m.\u001b[0m\u001b[0mbarplot\u001b[0m\u001b[0;34m(\u001b[0m\u001b[0mvuelos_aerolineas\u001b[0m\u001b[0;34m.\u001b[0m\u001b[0mindex\u001b[0m\u001b[0;34m,\u001b[0m \u001b[0mvuelos_aerolineas\u001b[0m\u001b[0;34m.\u001b[0m\u001b[0mvalues\u001b[0m\u001b[0;34m,\u001b[0m \u001b[0malpha\u001b[0m\u001b[0;34m=\u001b[0m\u001b[0;36m0.9\u001b[0m\u001b[0;34m)\u001b[0m\u001b[0;34m\u001b[0m\u001b[0;34m\u001b[0m\u001b[0m\n\u001b[0m\u001b[1;32m      5\u001b[0m \u001b[0mplt\u001b[0m\u001b[0;34m.\u001b[0m\u001b[0mtitle\u001b[0m\u001b[0;34m(\u001b[0m\u001b[0;34m'Cantidad de Vuelos por Aerlínea'\u001b[0m\u001b[0;34m)\u001b[0m\u001b[0;34m\u001b[0m\u001b[0;34m\u001b[0m\u001b[0m\n\u001b[1;32m      6\u001b[0m \u001b[0mplt\u001b[0m\u001b[0;34m.\u001b[0m\u001b[0mylabel\u001b[0m\u001b[0;34m(\u001b[0m\u001b[0;34m'Número de Vuelos'\u001b[0m\u001b[0;34m,\u001b[0m \u001b[0mfontsize\u001b[0m\u001b[0;34m=\u001b[0m\u001b[0;36m12\u001b[0m\u001b[0;34m)\u001b[0m\u001b[0;34m\u001b[0m\u001b[0;34m\u001b[0m\u001b[0m\n",
            "\u001b[0;31mTypeError\u001b[0m: barplot() takes from 0 to 1 positional arguments but 2 were given"
          ]
        },
        {
          "output_type": "display_data",
          "data": {
            "text/plain": [
              "<Figure size 1000x600 with 0 Axes>"
            ]
          },
          "metadata": {}
        }
      ],
      "source": [
        "vuelos_aerolineas = df['OPERA'].value_counts()\n",
        "plt.figure(figsize = (10,6))\n",
        "sns.set(style=\"darkgrid\")\n",
        "sns.barplot(vuelos_aerolineas.index, vuelos_aerolineas.values, alpha=0.9)\n",
        "plt.title('Cantidad de Vuelos por Aerlínea')\n",
        "plt.ylabel('Número de Vuelos', fontsize=12)\n",
        "plt.xlabel('Aerlínea', fontsize=12)\n",
        "plt.xticks(rotation=90)\n",
        "plt.show()"
      ]
    },
    {
      "cell_type": "code",
      "execution_count": null,
      "metadata": {
        "id": "3KjbAuwrQv8F"
      },
      "outputs": [],
      "source": [
        "vuelos_dia = df['DIA'].value_counts()\n",
        "plt.figure(figsize = (10,6))\n",
        "sns.set(style = \"darkgrid\")\n",
        "sns.barplot(vuelos_dia.index, vuelos_dia.values, color = 'lightblue', alpha=0.8)\n",
        "plt.title('Cantidad de Vuelos por día del Mes')\n",
        "plt.ylabel('Número de Vuelos', fontsize=12)\n",
        "plt.xlabel('Día del Mes', fontsize=12)\n",
        "plt.xticks(rotation=90)\n",
        "plt.show()"
      ]
    },
    {
      "cell_type": "code",
      "execution_count": null,
      "metadata": {
        "id": "a-x6_hoLQv8F"
      },
      "outputs": [],
      "source": [
        "vuelos_mes = df['MES'].value_counts()\n",
        "sns.set(style = \"darkgrid\")\n",
        "sns.barplot(vuelos_mes.index, vuelos_mes.values, color = 'lightblue', alpha=0.8)\n",
        "plt.title('Cantidad de Vuelos por día del Mes')\n",
        "plt.ylabel('Número de Vuelos', fontsize=12)\n",
        "plt.xlabel('Día del Mes', fontsize=12)\n",
        "plt.xticks(rotation=90)\n",
        "plt.show()"
      ]
    },
    {
      "cell_type": "code",
      "execution_count": null,
      "metadata": {
        "scrolled": true,
        "id": "X9-tKaz4Qv8F"
      },
      "outputs": [],
      "source": [
        "vuelos = df['DIANOM'].value_counts()\n",
        "dias = [vuelos.index[2], vuelos.index[5], vuelos.index[4], vuelos.index[1], vuelos.index[0], vuelos.index[6], vuelos.index[3]]\n",
        "valores_dias = [vuelos.values[2], vuelos.values[5], vuelos.values[4], vuelos.values[1], vuelos.values[0], vuelos.values[6], vuelos.values[3]]\n",
        "\n",
        "sns.set(style=\"darkgrid\")\n",
        "sns.barplot(dias, valores_dias, color = 'lightblue', alpha=0.8)\n",
        "plt.title('Cantidad de Vuelos por Día de la Semana')\n",
        "plt.ylabel('Número de Vuelos', fontsize=12)\n",
        "plt.xlabel('Día de la Semana', fontsize=12)\n",
        "plt.xticks(rotation=90)\n",
        "plt.show()"
      ]
    },
    {
      "cell_type": "code",
      "execution_count": null,
      "metadata": {
        "id": "5mxYBux0Qv8F"
      },
      "outputs": [],
      "source": [
        "vuelos = df['TIPOVUELO'].value_counts()\n",
        "sns.set(style=\"darkgrid\")\n",
        "sns.barplot(vuelos.index, vuelos.values, alpha=0.9)\n",
        "plt.title('Cantidad de Vuelos por Tipo de Vuelo')\n",
        "plt.ylabel('Número de Vuelos', fontsize=12)\n",
        "plt.xlabel('Tipo de Vuelo', fontsize=12)\n",
        "plt.show()"
      ]
    },
    {
      "cell_type": "code",
      "execution_count": null,
      "metadata": {
        "id": "sfh0CyyEQv8G"
      },
      "outputs": [],
      "source": [
        "vuelos = df['SIGLADES'].value_counts()\n",
        "sns.set(style=\"darkgrid\")\n",
        "sns.barplot(vuelos.index, vuelos.values, color = 'lightblue', alpha=0.8)\n",
        "plt.title('Cantidad de Vuelos por Destino')\n",
        "plt.ylabel('Número de Vuelos', fontsize=12)\n",
        "plt.xlabel('Destino', fontsize=12)\n",
        "plt.xticks(rotation=90)\n",
        "\n",
        "plt.show()"
      ]
    },
    {
      "cell_type": "markdown",
      "metadata": {
        "id": "eBxadEczQv8G"
      },
      "source": [
        "Respecto a las distribuciones, se puede ver que dentro de todo la data está distribuida de manera bastante balanceada. De todas formas se pueden notar ciertas particularidades en algunas columnas:\n",
        "* En las aerolíneas LATAM Airlines es la con mayor cantidad de vuelo debido a que es la más grande aquí en chile y es la que tiene mayor cantidad de destinos. SKY Airlines sería la segunda más grande y de ahí en adelante las demás son bastante similares en cuanto a vuelos.\n",
        "* En cuanto a los días del mes, se puede ver como el día 31 tiene menor cantidad que los demás días y esto se puede deber a que hay menos días 31 durante el año.\n",
        "* Con los días de semana, el día sábado es el único en el que se nota una diferencia. Aquí puede ser porque la gente prefiere ese día para quedarse en donde sea que esté y aprovecharlo en caso que esté de viaje para poder recorrer o solamente descansar.\n",
        "* Por parte de los destinos se puede ver que gran parte se lo llevan las ciudades chilenas del norte. Esto puede ser por un alto flujo en minería."
      ]
    },
    {
      "cell_type": "markdown",
      "metadata": {
        "id": "9TYjxcliQv8G"
      },
      "source": [
        "### 2. Genera las columnas adicionales y luego expórtelas en un archivo synthetic_features.csv :"
      ]
    },
    {
      "cell_type": "markdown",
      "metadata": {
        "id": "q_D2H4ObQv8G"
      },
      "source": [
        "* **temporada_alta** : 1 si **Fecha-I** está entre 15-Dic y 3-Mar, o 15-Jul y 31-Jul, o 11-Sep y 30-Sep, 0 si no"
      ]
    },
    {
      "cell_type": "code",
      "execution_count": null,
      "metadata": {
        "id": "t5cMv7AYQv8G"
      },
      "outputs": [],
      "source": [
        "from datetime import datetime\n",
        "\n",
        "def temporada_alta(fecha):\n",
        "    fecha_año = int(fecha.split('-')[0])\n",
        "    fecha = datetime.strptime(fecha, '%Y-%m-%d %H:%M:%S')\n",
        "    range1_min = datetime.strptime('15-Dec', '%d-%b').replace(year = fecha_año)\n",
        "    range1_max = datetime.strptime('31-Dec', '%d-%b').replace(year = fecha_año)\n",
        "    range2_min = datetime.strptime('1-Jan', '%d-%b').replace(year = fecha_año)\n",
        "    range2_max = datetime.strptime('3-Mar', '%d-%b').replace(year = fecha_año)\n",
        "    range3_min = datetime.strptime('15-Jul', '%d-%b').replace(year = fecha_año)\n",
        "    range3_max = datetime.strptime('31-Jul', '%d-%b').replace(year = fecha_año)\n",
        "    range4_min = datetime.strptime('11-Sep', '%d-%b').replace(year = fecha_año)\n",
        "    range4_max = datetime.strptime('30-Sep', '%d-%b').replace(year = fecha_año)\n",
        "\n",
        "    if ((fecha >= range1_min and fecha <= range1_max) or\n",
        "        (fecha >= range2_min and fecha <= range2_max) or\n",
        "        (fecha >= range3_min and fecha <= range3_max) or\n",
        "        (fecha >= range4_min and fecha <= range4_max)):\n",
        "        return 1\n",
        "    else:\n",
        "        return 0\n",
        ""
      ]
    },
    {
      "cell_type": "code",
      "execution_count": null,
      "metadata": {
        "scrolled": true,
        "id": "006WL2FsQv8G"
      },
      "outputs": [],
      "source": [
        "df['temporada_alta'] = df['Fecha-I'].apply(temporada_alta)"
      ]
    },
    {
      "cell_type": "code",
      "execution_count": null,
      "metadata": {
        "id": "9_42PfEbQv8H"
      },
      "outputs": [],
      "source": [
        "df['temporada_alta'].value_counts()"
      ]
    },
    {
      "cell_type": "markdown",
      "metadata": {
        "id": "L629ei01Qv8H"
      },
      "source": [
        "* **dif_min** : diferencia en minutos entre **Fecha-O** y **Fecha-I** ."
      ]
    },
    {
      "cell_type": "code",
      "execution_count": null,
      "metadata": {
        "id": "da8ZAVWMQv8H"
      },
      "outputs": [],
      "source": [
        "def dif_min(data):\n",
        "    fecha_o = datetime.strptime(data['Fecha-O'], '%Y-%m-%d %H:%M:%S')\n",
        "    fecha_i = datetime.strptime(data['Fecha-I'], '%Y-%m-%d %H:%M:%S')\n",
        "    dif_min = ((fecha_o - fecha_i).total_seconds())/60\n",
        "    return dif_min\n",
        ""
      ]
    },
    {
      "cell_type": "code",
      "execution_count": null,
      "metadata": {
        "id": "nDO6QvN1Qv8I"
      },
      "outputs": [],
      "source": [
        "df['dif_min'] = df.apply(dif_min, axis = 1)"
      ]
    },
    {
      "cell_type": "markdown",
      "metadata": {
        "id": "F0EQqwtQQv8I"
      },
      "source": [
        "* **atraso_15** : 1 si **dif_min** > 15, 0 si no."
      ]
    },
    {
      "cell_type": "code",
      "execution_count": null,
      "metadata": {
        "id": "Pmjc6OalQv8I"
      },
      "outputs": [],
      "source": [
        "df['atraso_15'] = np.where(df['dif_min'] > 15, 1, 0)"
      ]
    },
    {
      "cell_type": "code",
      "execution_count": null,
      "metadata": {
        "id": "hj6fj78AQv8J"
      },
      "outputs": [],
      "source": [
        "df['atraso_15'].value_counts()"
      ]
    },
    {
      "cell_type": "markdown",
      "metadata": {
        "id": "5GN9pfTcQv8J"
      },
      "source": [
        "* **periodo_dia** : mañana (entre 5:00 y 11:59), tarde (entre 12:00 y 18:59) y noche (entre 19:00 y 4:59), en base a **Fecha-I**."
      ]
    },
    {
      "cell_type": "code",
      "execution_count": null,
      "metadata": {
        "id": "ce0ygfOgQv8J"
      },
      "outputs": [],
      "source": [
        "def get_periodo_dia(fecha):\n",
        "    fecha_time = datetime.strptime(fecha, '%Y-%m-%d %H:%M:%S').time()\n",
        "    mañana_min = datetime.strptime(\"05:00\", '%H:%M').time()\n",
        "    mañana_max = datetime.strptime(\"11:59\", '%H:%M').time()\n",
        "    tarde_min = datetime.strptime(\"12:00\", '%H:%M').time()\n",
        "    tarde_max = datetime.strptime(\"18:59\", '%H:%M').time()\n",
        "    noche_min1 = datetime.strptime(\"19:00\", '%H:%M').time()\n",
        "    noche_max1 = datetime.strptime(\"23:59\", '%H:%M').time()\n",
        "    noche_min2 = datetime.strptime(\"00:00\", '%H:%M').time()\n",
        "    noche_max2 = datetime.strptime(\"4:59\", '%H:%M').time()\n",
        "\n",
        "    if(fecha_time > mañana_min and fecha_time < mañana_max):\n",
        "        return 'mañana'\n",
        "    elif(fecha_time > tarde_min and fecha_time < tarde_max):\n",
        "        return 'tarde'\n",
        "    elif((fecha_time > noche_min1 and fecha_time < noche_max1) or\n",
        "         (fecha_time > noche_min2 and fecha_time < noche_max2)):\n",
        "        return 'noche'"
      ]
    },
    {
      "cell_type": "code",
      "execution_count": null,
      "metadata": {
        "collapsed": true,
        "jupyter": {
          "outputs_hidden": true
        },
        "id": "UTUMSaRZQv8K"
      },
      "outputs": [],
      "source": [
        "df['periodo_dia'] = df['Fecha-I'].apply(get_periodo_dia)"
      ]
    },
    {
      "cell_type": "code",
      "execution_count": null,
      "metadata": {
        "id": "IJjf0ua7Qv8K"
      },
      "outputs": [],
      "source": [
        "df[['temporada_alta','dif_min','atraso_15','periodo_dia']].to_csv('synthetic_features.csv', index = False)"
      ]
    },
    {
      "cell_type": "markdown",
      "metadata": {
        "id": "Xhhccwo4Qv8K"
      },
      "source": [
        "### 3. ¿Cómo se compone la tasa de atraso por destino, aerolínea, mes del año, día de la semana, temporada, tipo de vuelo? ¿Qué variables esperarías que más influyeran en predecir atrasos?"
      ]
    },
    {
      "cell_type": "markdown",
      "metadata": {
        "id": "oVVKUbKOQv8K"
      },
      "source": [
        "* ¿Cómo se compone la tasa de atraso por destino, aerolínea, mes del año, día de la semana, temporada, tipo de vuelo?"
      ]
    },
    {
      "cell_type": "code",
      "execution_count": null,
      "metadata": {
        "id": "hDJn1XHEQv8K"
      },
      "outputs": [],
      "source": [
        "def calcular_tasa(df, columna):\n",
        "\n",
        "    dic_atrasos = {}\n",
        "    for _, row in df.iterrows():\n",
        "        if row['atraso_15'] == 1:\n",
        "            if row[columna] not in dic_atrasos:\n",
        "                dic_atrasos[row[columna]] = 1\n",
        "            else:\n",
        "                dic_atrasos[row[columna]] += 1\n",
        "\n",
        "    total_values = df[columna].value_counts()\n",
        "\n",
        "    dic_tasas = {}\n",
        "    for name, total in total_values.iteritems():\n",
        "        if name in dic_atrasos:\n",
        "            dic_tasas[name] = round(total / dic_atrasos[name], 2)\n",
        "        else:\n",
        "            dic_tasas[name] = 0\n",
        "\n",
        "    return pd.DataFrame.from_dict(data = dic_tasas, orient = 'index', columns = ['Tasa (%)'])"
      ]
    },
    {
      "cell_type": "code",
      "execution_count": null,
      "metadata": {
        "collapsed": true,
        "jupyter": {
          "outputs_hidden": true
        },
        "id": "7XKut6GyQv8K"
      },
      "outputs": [],
      "source": [
        "tasas_destinos = calcular_tasa(df, 'SIGLADES')\n",
        "tasas_destinos"
      ]
    },
    {
      "cell_type": "code",
      "execution_count": null,
      "metadata": {
        "id": "CsqTgOiNQv8L"
      },
      "outputs": [],
      "source": [
        "tasas_destinos_values = df['SIGLADES'].value_counts().index\n",
        "plt.figure(figsize = (20,5))\n",
        "sns.set(style=\"darkgrid\")\n",
        "sns.barplot(df['SIGLADES'].value_counts().index, tasas_destinos['Tasa (%)'], alpha = 0.75)\n",
        "plt.title('Tasa de Retraso por Destino')\n",
        "plt.ylabel('Tasa de Retraso [%]', fontsize=12)\n",
        "plt.xlabel('Destino', fontsize=12)\n",
        "plt.xticks(rotation=90)\n",
        "plt.show()"
      ]
    },
    {
      "cell_type": "code",
      "execution_count": null,
      "metadata": {
        "scrolled": true,
        "id": "wQ9ylbwuQv8L"
      },
      "outputs": [],
      "source": [
        "tasas_aerolineas = calcular_tasa(df, 'OPERA')\n",
        "tasas_aerolineas"
      ]
    },
    {
      "cell_type": "code",
      "execution_count": null,
      "metadata": {
        "id": "q4mOu0TgQv8O"
      },
      "outputs": [],
      "source": [
        "tasas_aerolineas_values = df['OPERA'].value_counts().index\n",
        "\n",
        "plt.figure(figsize = (10,5))\n",
        "sns.set(style=\"darkgrid\")\n",
        "sns.barplot(tasas_aerolineas_values, tasas_aerolineas['Tasa (%)'], alpha = 0.75)\n",
        "plt.title('Tasa de Retraso por Aerlínea')\n",
        "plt.ylabel('Tasa de Retraso [%]', fontsize=12)\n",
        "plt.xlabel('Aerolínea', fontsize=12)\n",
        "plt.xticks(rotation=90)\n",
        "plt.show()"
      ]
    },
    {
      "cell_type": "code",
      "execution_count": null,
      "metadata": {
        "collapsed": true,
        "jupyter": {
          "outputs_hidden": true
        },
        "id": "eC1rq6X7Qv8P"
      },
      "outputs": [],
      "source": [
        "tasas_meses = calcular_tasa(df, 'MES')\n",
        "tasas_meses"
      ]
    },
    {
      "cell_type": "code",
      "execution_count": null,
      "metadata": {
        "id": "dfKyQFgBQv8P"
      },
      "outputs": [],
      "source": [
        "tasas_meses_values = df['MES'].value_counts().index\n",
        "\n",
        "plt.figure(figsize = (10,5))\n",
        "sns.set(style=\"darkgrid\")\n",
        "sns.barplot(tasas_meses_values, tasas_meses['Tasa (%)'], color = 'blue', alpha = 0.75)\n",
        "plt.title('Tasa de Retraso por Mes')\n",
        "plt.ylabel('Tasa de Retraso [%]', fontsize=12)\n",
        "plt.xlabel('Meses', fontsize=12)\n",
        "plt.xticks(rotation=90)\n",
        "plt.ylim(0,10)\n",
        "plt.show()"
      ]
    },
    {
      "cell_type": "code",
      "execution_count": null,
      "metadata": {
        "id": "2POpNQoRQv8P"
      },
      "outputs": [],
      "source": [
        "tasas_dias = calcular_tasa(df, 'DIANOM')\n",
        "tasas_dias"
      ]
    },
    {
      "cell_type": "code",
      "execution_count": null,
      "metadata": {
        "id": "kgX2z9oAQv8P"
      },
      "outputs": [],
      "source": [
        "tasas_dias_values = df['DIANOM'].value_counts().index\n",
        "\n",
        "sns.set(style=\"darkgrid\")\n",
        "plt.figure(figsize = (8,6))\n",
        "sns.barplot(tasas_dias_values, tasas_dias['Tasa (%)'], color = 'blue', alpha = 0.75)\n",
        "plt.title('Tasa de Retraso por Día')\n",
        "plt.ylabel('Tasa de Retraso [%]', fontsize=12)\n",
        "plt.xlabel('Días', fontsize=12)\n",
        "plt.xticks(rotation=90)\n",
        "plt.ylim(0,7)\n",
        "plt.show()"
      ]
    },
    {
      "cell_type": "code",
      "execution_count": null,
      "metadata": {
        "id": "xMx_PawqQv8P"
      },
      "outputs": [],
      "source": [
        "tasas_temporada = calcular_tasa(df, 'temporada_alta')\n",
        "tasas_temporada"
      ]
    },
    {
      "cell_type": "code",
      "execution_count": null,
      "metadata": {
        "id": "yI2n2bMOQv8Q"
      },
      "outputs": [],
      "source": [
        "tasas_temporada_values = df['temporada_alta'].value_counts().index\n",
        "\n",
        "plt.figure(figsize = (8, 5))\n",
        "sns.set(style=\"darkgrid\")\n",
        "sns.barplot(tasas_temporada_values, tasas_temporada['Tasa (%)'])\n",
        "plt.title('Tasa de Retraso por Temporada')\n",
        "plt.ylabel('Tasa de Retraso [%]', fontsize=12)\n",
        "plt.xlabel('Temporada', fontsize=12)\n",
        "plt.xticks(rotation=90)\n",
        "plt.ylim(0,6)\n",
        "plt.show()"
      ]
    },
    {
      "cell_type": "code",
      "execution_count": null,
      "metadata": {
        "id": "d5HhmPPxQv8Q"
      },
      "outputs": [],
      "source": [
        "tasas_tipovuelo = calcular_tasa(df, 'TIPOVUELO')\n",
        "tasas_tipovuelo"
      ]
    },
    {
      "cell_type": "code",
      "execution_count": null,
      "metadata": {
        "id": "4BQWYMqVQv8Q"
      },
      "outputs": [],
      "source": [
        "tasas_tipovuelo_values = df['TIPOVUELO'].value_counts().index\n",
        "\n",
        "plt.figure(figsize = (5,5))\n",
        "sns.set(style=\"darkgrid\")\n",
        "sns.barplot(tasas_tipovuelo_values, tasas_tipovuelo['Tasa (%)'])\n",
        "plt.title('Tasa de Retraso por Tipo de Vuelo')\n",
        "plt.ylabel('Tasa de Retraso [%]', fontsize=12)\n",
        "plt.xlabel('Tipo de Vuelo', fontsize=12)\n",
        "plt.ylim(0,7)\n",
        "plt.show()"
      ]
    },
    {
      "cell_type": "code",
      "execution_count": null,
      "metadata": {
        "id": "wg6kDel6Qv8Q"
      },
      "outputs": [],
      "source": [
        "tasa_periododia = calcular_tasa(df, 'periodo_dia')\n",
        "tasa_periododia"
      ]
    },
    {
      "cell_type": "code",
      "execution_count": null,
      "metadata": {
        "id": "tRf4iYghQv8Q"
      },
      "outputs": [],
      "source": [
        "tasas_periodo_values = df['periodo_dia'].value_counts().index\n",
        "\n",
        "plt.figure(figsize = (5,5))\n",
        "sns.set(style=\"darkgrid\")\n",
        "sns.barplot(tasas_periodo_values, tasa_periododia['Tasa (%)'])\n",
        "plt.title('Tasa de Retraso por Periodo')\n",
        "plt.ylabel('Tasa de Retraso [%]', fontsize=12)\n",
        "plt.xlabel('Tipo de Periodo', fontsize=12)\n",
        "plt.ylim(3,7)\n",
        "plt.show()"
      ]
    },
    {
      "cell_type": "markdown",
      "metadata": {
        "id": "fse-0r0vQv8Q"
      },
      "source": [
        "* ¿Qué variables esperarías que más influyeran en predecir atrasos?"
      ]
    },
    {
      "cell_type": "markdown",
      "metadata": {
        "id": "9qOuPkW6Qv8R"
      },
      "source": [
        "Me parece que las que más podrían influir serían:\n",
        "* **Aerolíneas**: Dependiendo de la calidad de gestión de cada aerolínea puede ser que afecte en sus programaciones. También puede que afecte el tipo de aerolínea, si es una low cost por ejemplo, estas llevan menos equipaje ya que es un costo extra para cada pasajero por lo que el tiempo de carga es menor, corriendo menor riesgo de retraso.\n",
        "* **Tipo de Vuelo**: esto puede afectar en cómo esté el clima del país de destino. Por ejemplo si se tiene que volar a argentina y se tiene que cruzar por la cordillera y hay un mal clima, es posible que se tenga que esperar un rato para poder salir.\n",
        "* **Mes**: Esto va un poco de la mano con lo anterior, si es que es un mes del año donde el clima no es lo suficientemente adecuado, se tendría que esperar.  \n",
        ""
      ]
    },
    {
      "cell_type": "markdown",
      "metadata": {
        "id": "nJ_5nupgQv8R"
      },
      "source": [
        "### 4. Entrena uno o varios modelos (usando el/los algoritmo(s) que prefieras) para estimar la probabilidad de atraso de un vuelo. Siéntete libre de generar variables adicionales y/o complementar con variables externas."
      ]
    },
    {
      "cell_type": "code",
      "execution_count": null,
      "metadata": {
        "id": "GbGjHwFnQv8R"
      },
      "outputs": [],
      "source": [
        "from sklearn.model_selection import train_test_split\n",
        "from sklearn.utils import shuffle\n",
        "from sklearn.linear_model import LogisticRegression\n",
        "from sklearn.metrics import confusion_matrix, classification_report"
      ]
    },
    {
      "cell_type": "code",
      "execution_count": null,
      "metadata": {
        "id": "F52mhOstQv8R"
      },
      "outputs": [],
      "source": [
        "data = shuffle(df[['OPERA', 'MES', 'TIPOVUELO', 'SIGLADES', 'DIANOM', 'atraso_15']], random_state = 111)"
      ]
    },
    {
      "cell_type": "code",
      "execution_count": null,
      "metadata": {
        "id": "rN1KyKevQv8R"
      },
      "outputs": [],
      "source": [
        "features = pd.concat([pd.get_dummies(data['OPERA'], prefix = 'OPERA'),pd.get_dummies(data['TIPOVUELO'], prefix = 'TIPOVUELO'), pd.get_dummies(data['MES'], prefix = 'MES')], axis = 1)\n",
        "label = data['atraso_15']"
      ]
    },
    {
      "cell_type": "code",
      "execution_count": null,
      "metadata": {
        "id": "RIlHrgsKQv8R"
      },
      "outputs": [],
      "source": [
        "x_train, x_test, y_train, y_test = train_test_split(features, label, test_size = 0.33, random_state = 42)"
      ]
    },
    {
      "cell_type": "code",
      "execution_count": null,
      "metadata": {
        "scrolled": true,
        "id": "5fyko_GZQv8S"
      },
      "outputs": [],
      "source": [
        "x_train.shape, x_test.shape"
      ]
    },
    {
      "cell_type": "code",
      "execution_count": null,
      "metadata": {
        "id": "TjSGDRvmQv8S"
      },
      "outputs": [],
      "source": [
        "y_train.value_counts('%')"
      ]
    },
    {
      "cell_type": "code",
      "execution_count": null,
      "metadata": {
        "id": "SFqnZR8qQv8S"
      },
      "outputs": [],
      "source": [
        "y_test.value_counts('%')"
      ]
    },
    {
      "cell_type": "markdown",
      "metadata": {
        "id": "DZ6JPLxJQv8S"
      },
      "source": [
        "#### Utilizando Regresión logística"
      ]
    },
    {
      "cell_type": "code",
      "execution_count": null,
      "metadata": {
        "id": "D8E_5BElQv8S"
      },
      "outputs": [],
      "source": [
        "logReg = LogisticRegression()\n",
        "model = logReg.fit(x_train, y_train)"
      ]
    },
    {
      "cell_type": "code",
      "execution_count": null,
      "metadata": {
        "id": "hzMd2_OWQv8S"
      },
      "outputs": [],
      "source": [
        "y_pred = model.predict(x_test)"
      ]
    },
    {
      "cell_type": "markdown",
      "metadata": {
        "id": "M0GB4qQJQv8S"
      },
      "source": [
        "#### Métricas Regresión Logística"
      ]
    },
    {
      "cell_type": "code",
      "execution_count": null,
      "metadata": {
        "id": "-_euNJkYQv8T"
      },
      "outputs": [],
      "source": [
        "confusion_matrix(y_test, y_pred)"
      ]
    },
    {
      "cell_type": "code",
      "execution_count": null,
      "metadata": {
        "id": "X1LZIEQmQv8T"
      },
      "outputs": [],
      "source": [
        "print(classification_report(y_test, y_pred))"
      ]
    },
    {
      "cell_type": "markdown",
      "metadata": {
        "id": "2EJguVwIQv8T"
      },
      "source": [
        "#### Utilizando XGBoost"
      ]
    },
    {
      "cell_type": "code",
      "execution_count": null,
      "metadata": {
        "scrolled": true,
        "id": "r5qcEErxQv8T"
      },
      "outputs": [],
      "source": [
        "import xgboost as xgb\n",
        "from xgboost import plot_importance"
      ]
    },
    {
      "cell_type": "code",
      "execution_count": null,
      "metadata": {
        "id": "lFW4hZgmQv8T"
      },
      "outputs": [],
      "source": [
        "modelxgb = xgb.XGBClassifier(random_state=1, learning_rate=0.01)\n",
        "modelxgb = modelxgb.fit(x_train, y_train)"
      ]
    },
    {
      "cell_type": "code",
      "execution_count": null,
      "metadata": {
        "id": "T6jRCXoRQv8T"
      },
      "outputs": [],
      "source": [
        "y_predxgb = modelxgb.predict(x_test)"
      ]
    },
    {
      "cell_type": "markdown",
      "metadata": {
        "id": "qr7p06BuQv8U"
      },
      "source": [
        "#### Métricas XGBoost"
      ]
    },
    {
      "cell_type": "code",
      "execution_count": null,
      "metadata": {
        "scrolled": true,
        "id": "_emUb_xsQv8U"
      },
      "outputs": [],
      "source": [
        "confusion_matrix(y_test, y_predxgb)"
      ]
    },
    {
      "cell_type": "code",
      "execution_count": null,
      "metadata": {
        "id": "Ws0-FF6UQv8U"
      },
      "outputs": [],
      "source": [
        "print(classification_report(y_test, y_pred))"
      ]
    },
    {
      "cell_type": "markdown",
      "metadata": {
        "id": "dYu-HKVyQv8U"
      },
      "source": [
        "#### Utilizando XGBoost dejando Features más importantes"
      ]
    },
    {
      "cell_type": "code",
      "execution_count": null,
      "metadata": {
        "id": "TFNy0IhBQv8U"
      },
      "outputs": [],
      "source": [
        "modelxgb.feature_importances_"
      ]
    },
    {
      "cell_type": "code",
      "execution_count": null,
      "metadata": {
        "id": "CM1KUZSeQv8U"
      },
      "outputs": [],
      "source": [
        "plt.figure(figsize = (13,10))\n",
        "plot_importance(modelxgb)"
      ]
    },
    {
      "cell_type": "code",
      "execution_count": null,
      "metadata": {
        "id": "C-RfDS8BQv8U"
      },
      "outputs": [],
      "source": [
        "features_importantes = features[['MES_7', 'TIPOVUELO_I', 'OPERA_Copa Air', 'OPERA_Latin American Wings',\n",
        "                                'MES_12', 'OPERA_Grupo LATAM', 'MES_10', 'OPERA_JetSmart SPA', 'OPERA_Air Canada',\n",
        "                                'MES_9', 'OPERA_American Airlines']]\n",
        "labels_ = labels"
      ]
    },
    {
      "cell_type": "code",
      "execution_count": null,
      "metadata": {
        "id": "xTftGWNjQv8V"
      },
      "outputs": [],
      "source": [
        "x_train2, x_test2, y_train2, y_test2 = train_test_split(features_importantes, labels_, test_size = 0.33, random_state = 42)"
      ]
    },
    {
      "cell_type": "code",
      "execution_count": null,
      "metadata": {
        "id": "_Bgv_hrDQv8V"
      },
      "outputs": [],
      "source": [
        "modelxgb = xgb.XGBClassifier(random_state=1, learning_rate=0.01, subsample = 1, max_depth = 10)\n",
        "modelxgb = modelxgb.fit(x_train2, y_train2)"
      ]
    },
    {
      "cell_type": "code",
      "execution_count": null,
      "metadata": {
        "id": "i8aQA-pDQv8V"
      },
      "outputs": [],
      "source": [
        "y_predxgb = modelxgb.predict(x_test2)"
      ]
    },
    {
      "cell_type": "markdown",
      "metadata": {
        "id": "sz-ycywGQv8V"
      },
      "source": [
        "#### Métricas XGBoost dejando Features más importantes"
      ]
    },
    {
      "cell_type": "code",
      "execution_count": null,
      "metadata": {
        "id": "SRUCliAeQv8V"
      },
      "outputs": [],
      "source": [
        "confusion_matrix(y_test2, y_predxgb)"
      ]
    },
    {
      "cell_type": "code",
      "execution_count": null,
      "metadata": {
        "id": "r-OHQPh6Qv8V"
      },
      "outputs": [],
      "source": [
        "print(classification_report(y_test2, y_predxgb))"
      ]
    },
    {
      "cell_type": "markdown",
      "metadata": {
        "id": "7g6k2kOjQv8V"
      },
      "source": [
        "### 5. Evalúa tu modelo. ¿Qué performance tiene? ¿Qué métricas usaste para evaluar esa performance y por qué? ¿Por qué elegiste ese algoritmo en particular? ¿Qué variables son las que más influyen en la predicción? ¿Cómo podrías mejorar laperformance?"
      ]
    },
    {
      "cell_type": "markdown",
      "metadata": {
        "id": "N7fEbIRDQv8W"
      },
      "source": [
        "Los modelos utilizados en la sección anterior fueron:\n",
        "* **Regresión Logística**: Fue seleccionado ya que es el modelo más simple para poder resolver problemas de clasificación.\n",
        "* **XGBoost**: Fue seleccionado porque en general tiene un gran desempeño y entrega buenos resultados ya sea para regresión y clasificación, además es bastante rápido y facilita el tuneo de hiperparámetros.\n",
        "\n",
        "Los resultados obtenidos con ambos modelos fueron muy malos. Se utilizó matriz de confusión para validar los resultados. La cantidad de falsos negativos fue muy alta. Una de las posibles razones, la más clara, es el desbalanceo que existe en la clase 'atraso_15'. Del total de datos un 82% corresponde a no atraso y el 18% restante a atraso.\n",
        "Para poder mejorar la performance se tomaron dos decisiones, la primera aplicar un Grid Search CV sobre XGBoost para tunear de mejor manera los hiperparámetros y la segunda realizar un upsampling de la clase desbalanceada, en este caso los atrasos.\n",
        "\n"
      ]
    },
    {
      "cell_type": "markdown",
      "metadata": {
        "id": "nBRDXHs-Qv8W"
      },
      "source": [
        "### Grid Search CV"
      ]
    },
    {
      "cell_type": "code",
      "execution_count": null,
      "metadata": {
        "id": "uoMEITGiQv8W"
      },
      "outputs": [],
      "source": [
        "from sklearn.model_selection import GridSearchCV"
      ]
    },
    {
      "cell_type": "code",
      "execution_count": null,
      "metadata": {
        "scrolled": true,
        "id": "ZRwtdFQTQv8W"
      },
      "outputs": [],
      "source": [
        "parameters = {\n",
        "                'learning_rate': [0.01,0.05, 0.1],\n",
        "                'n_estimators': [50, 100, 150],\n",
        "                'subsample': [0.5, 0.9]\n",
        "}\n",
        "\n",
        "modelxgb_GridCV = GridSearchCV(modelxgb, param_grid = parameters,\n",
        "    cv = 2, n_jobs=-1, verbose=1).fit(x_train, y_train)"
      ]
    },
    {
      "cell_type": "code",
      "execution_count": null,
      "metadata": {
        "id": "6J0ekq9YQv8W"
      },
      "outputs": [],
      "source": [
        "y_predxgb_grid = modelxgb_GridCV.predict(x_test)"
      ]
    },
    {
      "cell_type": "code",
      "execution_count": null,
      "metadata": {
        "id": "EifTA9YDQv8W"
      },
      "outputs": [],
      "source": [
        "confusion_matrix(y_test, y_predxgb_grid)"
      ]
    },
    {
      "cell_type": "markdown",
      "metadata": {
        "id": "CwNJiO3iQv8X"
      },
      "source": [
        "### Upsampling"
      ]
    },
    {
      "cell_type": "code",
      "execution_count": null,
      "metadata": {
        "id": "73RhILhnQv8X"
      },
      "outputs": [],
      "source": [
        "data['atraso_15'].value_counts()"
      ]
    },
    {
      "cell_type": "code",
      "execution_count": null,
      "metadata": {
        "id": "qrp5QcVmQv8X"
      },
      "outputs": [],
      "source": [
        "#Resample\n",
        "from sklearn.utils import resample\n",
        "\n",
        "data_no_retraso = data[data['atraso_15'] == 0]\n",
        "data_atraso = data[data['atraso_15'] == 1]\n",
        "\n",
        "data_atraso_upsampled = resample(data_atraso,\n",
        "                                 replace = True,     # sample with replacement\n",
        "                                 n_samples = 30000,    # to match majority class\n",
        "                                 random_state = 42) # reproducible results\n",
        "\n",
        "data_upsampled = pd.concat([data_no_retraso, data_atraso_upsampled])"
      ]
    },
    {
      "cell_type": "code",
      "execution_count": null,
      "metadata": {
        "id": "ooaH5chxQv8X"
      },
      "outputs": [],
      "source": [
        "data_upsampled['atraso_15'].value_counts()"
      ]
    },
    {
      "cell_type": "code",
      "execution_count": null,
      "metadata": {
        "id": "QbNJ6VxfQv8X"
      },
      "outputs": [],
      "source": [
        "features_upsampled = pd.concat([pd.get_dummies(data_upsampled['OPERA'], prefix = 'OPERA'),pd.get_dummies(data_upsampled['TIPOVUELO'], prefix = 'TIPOVUELO'), pd.get_dummies(data_upsampled['MES'], prefix = 'MES')], axis = 1)\n",
        "label_upsampled = data_upsampled['atraso_15']"
      ]
    },
    {
      "cell_type": "code",
      "execution_count": null,
      "metadata": {
        "id": "oQomUYfoQv8X"
      },
      "outputs": [],
      "source": [
        "x_upsampled_train, x_upsampled_test, y_upsampled_train, y_upsampled_test = train_test_split(features_upsampled, label_upsampled, test_size = 0.33, random_state = 42)"
      ]
    },
    {
      "cell_type": "code",
      "execution_count": null,
      "metadata": {
        "id": "LH9st2noQv8Y"
      },
      "outputs": [],
      "source": [
        "modelxgb = xgb.XGBClassifier(random_state=1, learning_rate=0.01, subsample = 1, max_depth = 10)\n",
        "modelxgb.fit(x_upsampled_train, y_upsampled_train)"
      ]
    },
    {
      "cell_type": "code",
      "execution_count": null,
      "metadata": {
        "id": "Sj-aWrRxQv8Y"
      },
      "outputs": [],
      "source": [
        "y_upsampled_predxgb = modelxgb.predict(x_upsampled_test)"
      ]
    },
    {
      "cell_type": "code",
      "execution_count": null,
      "metadata": {
        "scrolled": true,
        "id": "9UtFv1bhQv8Y"
      },
      "outputs": [],
      "source": [
        "confusion_matrix(y_upsampled_test, y_upsampled_predxgb)"
      ]
    },
    {
      "cell_type": "code",
      "execution_count": null,
      "metadata": {
        "id": "OQBHNIyLQv8Z"
      },
      "outputs": [],
      "source": [
        "modelxgb.score(x_upsampled_test, y_upsampled_test)"
      ]
    },
    {
      "cell_type": "code",
      "execution_count": null,
      "metadata": {
        "scrolled": true,
        "id": "jGaH3T2KQv8a"
      },
      "outputs": [],
      "source": [
        "print(classification_report(y_upsampled_test, y_upsampled_predxgb))"
      ]
    },
    {
      "cell_type": "markdown",
      "metadata": {
        "id": "eS5qqnD2Qv8a"
      },
      "source": [
        "Observando los dos métodos para incrementar la performance, se puede ver como el modelo no mejoró. Esto puede ser ya que la data creada al upsamplear no tiene ningún sentido. Si se pudiese pudiese balancear la clase tal vez los modelos tendrían un mejor desempeño."
      ]
    },
    {
      "cell_type": "code",
      "execution_count": null,
      "metadata": {
        "id": "nmDRaOuUQv8a"
      },
      "outputs": [],
      "source": []
    }
  ],
  "metadata": {
    "kernelspec": {
      "display_name": "Python 3",
      "language": "python",
      "name": "python3"
    },
    "language_info": {
      "codemirror_mode": {
        "name": "ipython",
        "version": 3
      },
      "file_extension": ".py",
      "mimetype": "text/x-python",
      "name": "python",
      "nbconvert_exporter": "python",
      "pygments_lexer": "ipython3",
      "version": "3.9.2"
    },
    "colab": {
      "provenance": []
    }
  },
  "nbformat": 4,
  "nbformat_minor": 0
}